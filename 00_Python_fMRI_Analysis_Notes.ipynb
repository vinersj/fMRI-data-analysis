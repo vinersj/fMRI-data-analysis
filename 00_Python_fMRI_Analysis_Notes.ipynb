{
 "cells": [
  {
   "cell_type": "markdown",
   "id": "c5c2ddd0",
   "metadata": {},
   "source": [
    "https://www.youtube.com/watch?v=gMuxB18Cr0o\n",
    "\n",
    "From the T1 image, you must perform brain extraction (e.g. take only the brain, and ignore the skull, cerebral fluid, etc.) and then normalize the image."
   ]
  }
 ],
 "metadata": {
  "kernelspec": {
   "display_name": "Python 3 (ipykernel)",
   "language": "python",
   "name": "python3"
  },
  "language_info": {
   "codemirror_mode": {
    "name": "ipython",
    "version": 3
   },
   "file_extension": ".py",
   "mimetype": "text/x-python",
   "name": "python",
   "nbconvert_exporter": "python",
   "pygments_lexer": "ipython3",
   "version": "3.9.7"
  }
 },
 "nbformat": 4,
 "nbformat_minor": 5
}
