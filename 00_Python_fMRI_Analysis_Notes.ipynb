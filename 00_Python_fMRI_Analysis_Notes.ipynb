{
 "cells": [
  {
   "cell_type": "markdown",
   "id": "c5c2ddd0",
   "metadata": {},
   "source": [
    "# Python for MRI Analysis\n",
    "https://www.youtube.com/watch?v=gMuxB18Cr0o\n",
    "\n",
    "From the T1 image, you must:\n",
    "1. Perform brain extraction (e.g. take only the brain, and ignore the skull, cerebral fluid, etc.)\n",
    "2. Normalize the image\n",
    "3. Motion Correction (e.g. from the patient moving on the test bed, these distortions must be corrected)\n",
    "4. Susceptibiility Distortion Correction\n",
    "5. Alignment to T1 Image\n",
    "6. MNI152 Transformation\n",
    "7. Confound Regression\n",
    "\n",
    "BIDS = Brain Imaging Data Structure = Stardardized data organization for fMRI data. </br>\n",
    "</br>\n",
    "If your data is in the BIDS structure, you can run full pipelines that take care of the above steps for you. </br>\n",
    "</br>\n",
    "__Enter FMRIPREP__ </br>\n",
    "</br>\n",
    "2 spaces:\n",
    "1. Native (T1w) Space --> Original data\n",
    "2. MNI (Normalized) Space --> Your data is fit into this template with FMRIPREP\n",
    "</br>\n",
    "\n",
    "## Movement is the enemy of neuroimagers\n",
    "1. In task-based fMRI, if participants move during task-relevant moments, you get a huge __false task-related signal taht's actually due to motion__!\n",
    "2. In resting-state fMRI, movment can induce false correlations between brain regions\n",
    "    - Resting-state fMRI is when the patient is lying down doing nothing.  Not doing a task.\n",
    "3. FMRIPREP can sort out some error due to motion just by aligning the images, but motion can lead to false spikes that FMRIPREP cannot sort out just by aligning\n",
    "--> Solution: modelling our fMRI signal to be comprised ot true brain signal and confounder signals (the motion signal), can regress out the confounder signal (e.g. compound regression) </br>\n",
    "--> The best place to reduce motion is in the scan itself, NOT post-processing.  For example: </br>\n",
    "1. Give patient a pillow\n",
    "2. Time in between tasks\n",
    "3. Ensure they don't feel claustrophoic in the chamber\n"
   ]
  },
  {
   "cell_type": "code",
   "execution_count": null,
   "id": "fbca7005",
   "metadata": {},
   "outputs": [],
   "source": []
  }
 ],
 "metadata": {
  "kernelspec": {
   "display_name": "Python 3 (ipykernel)",
   "language": "python",
   "name": "python3"
  },
  "language_info": {
   "codemirror_mode": {
    "name": "ipython",
    "version": 3
   },
   "file_extension": ".py",
   "mimetype": "text/x-python",
   "name": "python",
   "nbconvert_exporter": "python",
   "pygments_lexer": "ipython3",
   "version": "3.9.7"
  }
 },
 "nbformat": 4,
 "nbformat_minor": 5
}
